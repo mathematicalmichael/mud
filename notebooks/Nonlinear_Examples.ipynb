{
 "cells": [
  {
   "cell_type": "code",
   "execution_count": 4,
   "metadata": {
    "execution": {
     "iopub.execute_input": "2022-05-31T20:48:23.452791Z",
     "iopub.status.busy": "2022-05-31T20:48:23.452060Z",
     "iopub.status.idle": "2022-05-31T20:48:25.599687Z",
     "shell.execute_reply": "2022-05-31T20:48:25.599353Z",
     "shell.execute_reply.started": "2022-05-31T20:48:23.452717Z"
    }
   },
   "outputs": [],
   "source": [
    "import mud.funs as mdf\n",
    "\n",
    "# Array handling libraries\n",
    "import numpy as np\n",
    "import pandas as pd\n",
    "import xarray as xr\n",
    "\n",
    "import datetime\n",
    "\n",
    "# Statistics libraries\n",
    "from scipy.stats import uniform, norm\n",
    "from scipy.stats import gaussian_kde as GKDE\n",
    "\n",
    "# Plotting libraries\n",
    "import matplotlib.pyplot as plt"
   ]
  },
  {
   "cell_type": "code",
   "execution_count": 5,
   "metadata": {
    "execution": {
     "iopub.execute_input": "2022-05-31T20:48:25.600686Z",
     "iopub.status.busy": "2022-05-31T20:48:25.600587Z",
     "iopub.status.idle": "2022-05-31T20:48:25.604794Z",
     "shell.execute_reply": "2022-05-31T20:48:25.604387Z",
     "shell.execute_reply.started": "2022-05-31T20:48:25.600673Z"
    }
   },
   "outputs": [],
   "source": [
    "# Default formatting for plots\n",
    "SMALL_SIZE = 8\n",
    "MEDIUM_SIZE = 10\n",
    "BIGGER_SIZE = 12\n",
    "\n",
    "plt.rc(\"font\", size=SMALL_SIZE)  # controls default text sizes\n",
    "plt.rc(\"axes\", titlesize=SMALL_SIZE)  # fontsize of the axes title\n",
    "plt.rc(\"axes\", labelsize=MEDIUM_SIZE)  # fontsize of the x and y labels\n",
    "plt.rc(\"xtick\", labelsize=SMALL_SIZE)  # fontsize of the tick labels\n",
    "plt.rc(\"ytick\", labelsize=SMALL_SIZE)  # fontsize of the tick labels\n",
    "plt.rc(\"legend\", fontsize=SMALL_SIZE)  # legend fontsize\n",
    "plt.rc(\"figure\", titlesize=BIGGER_SIZE)  # fontsize of the figure title"
   ]
  },
  {
   "cell_type": "code",
   "execution_count": 6,
   "metadata": {
    "execution": {
     "iopub.execute_input": "2022-05-31T20:48:25.605437Z",
     "iopub.status.busy": "2022-05-31T20:48:25.605338Z",
     "iopub.status.idle": "2022-05-31T20:48:25.611398Z",
     "shell.execute_reply": "2022-05-31T20:48:25.610866Z",
     "shell.execute_reply.started": "2022-05-31T20:48:25.605424Z"
    }
   },
   "outputs": [
    {
     "data": {
      "application/javascript": [
       "MathJax.Hub.Config({\n",
       "    TeX: { equationNumbers: { autoNumber: \"AMS\" } }\n",
       "});\n"
      ],
      "text/plain": [
       "<IPython.core.display.Javascript object>"
      ]
     },
     "metadata": {},
     "output_type": "display_data"
    }
   ],
   "source": [
    "%%javascript\n",
    "MathJax.Hub.Config({\n",
    "    TeX: { equationNumbers: { autoNumber: \"AMS\" } }\n",
    "});"
   ]
  },
  {
   "cell_type": "markdown",
   "metadata": {},
   "source": [
    "## <center> Maximal Updated Density (MUD) point estimate inverse problems \n",
    "   --- \n",
    "Carlos del-Castillo-Negrete\n",
    "    <br>\n",
    "    Oden Institute at the University of Texas at Austin\n",
    "    <br>\n",
    "    cdelcastillo21@gmail.com \n",
    "    \n",
    "   ---\n",
    "</center>\n",
    "    \n",
    "Based off work from Troy Butler and Michael Pilosov"
   ]
  },
  {
   "cell_type": "markdown",
   "metadata": {},
   "source": [
    "## Exponential Decay - Single Parameter Estimation Problem \n",
    "Consider an exponential decay system with uncertain paramater $\\lambda$, which we model with the following differential equation.\n",
    "\n",
    "\n",
    "<center>\n",
    "\\begin{equation}\n",
    "\\Large\n",
    "\\begin{cases} \\frac{\\partial u}{\\partial t} = \\lambda u(t), 0 \\lt t \\leq 3, \\\\\n",
    "                  u(0) = 0.75\n",
    "\\end{cases}\n",
    "\\end{equation}\n",
    "</center>\n",
    "\n",
    "The true solution is given by the following equation. \n",
    "    \n",
    "<center>\n",
    "\\begin{equation}\n",
    "\\Large u(t; \\lambda) = u_0 \\text{exp}(-\\lambda t), u_0 = 0.75 \n",
    "\\end{equation}\n",
    "<\\center>"
   ]
  },
  {
   "cell_type": "markdown",
   "metadata": {},
   "source": [
    "### Goal and assumptions\n",
    "Our goal is to use any initial knowledge on our parameter space, the assumed exponential decay model above, and data collected from experiments on the real world system to infer the true value $\\lambda$, which we set for this example problem to $\\lambda^{\\dagger}=0.5$. We seek a point estimate of the this true value.\n",
    "\n",
    "The main assumption we make is that our model is indeed an accurate representation of the physical system we are measuring, and the uncertainties in our experiments are aleatoric, i.e. reducible. Thus we have a noisy measurement device $M(t;\\lambda^{\\dagger})$ to record the true signal $u(t;\\lambda^{\\dagger})$ at $N$ points in time, with errors being idenpendent identically distributed Gaussain errors. The data collected can then be described by:\n",
    "\n",
    "<center>\n",
    "    \\begin{equation}\n",
    "        \\label{eq:d_i}\n",
    "        \\Large d(t_i) = M(t_i, \\lambda^{\\dagger}) + \\xi_i, \\xi_i \\sim {\\mathcal N}(0, \\sigma^2), 1 \\leq i \\leq N\n",
    "    \\end{equation}\n",
    "</center>\n",
    "\n",
    "Our goal is to use any initial knowledge on our parameter space, the assumed exponential decay model above, and data collected from our measurement device to infer the true value $\\lambda^{\\dagger}$. We will do this by building a Quantity of Interest map $Q$ from our observed data and perform data-consistent inversion to compute the updated probability density on our parameter space, given by the following equation\n",
    "\n",
    "<center>\n",
    "    \\begin{equation}\n",
    "        \\Large\n",
    "        \\pi_{up}(\\lambda) = \\pi_{in}(\\lambda)\\frac{\\pi_{ob}(Q(\\lambda))}{\\pi_{pr}(Q(\\lambda))}\n",
    "    \\end{equation}\n",
    "</center>\n",
    "\n",
    "Here $\\pi_{pr}(Q(\\lambda))$ corresponds to the push-forward of the initial distribution on our parameter space through the QoI map, while $\\pi_{ob}(Q(\\lambda))$ is the observed distribution of the QoI map for our system. From the $\\pi_{up}(\\lambda)$ we can then compute the <bf>Maximal Updated Density</bf> (MUD) point as\n",
    "\n",
    "<center>\n",
    "    \\begin{equation}\n",
    "        \\Large\n",
    "        \\lambda^{MUD} := \\text{argmax}\\pi_{up}(\\lambda)\n",
    "    \\end{equation}\n",
    "</center>\n",
    "\n",
    "Finall for our model problem, we assume our parameter range to be $\\Lambda = [0,1]$ and a uniform initial distribution, $\\pi_{in}(\\lambda)={\\mathcal U}([0,1])$."
   ]
  },
  {
   "cell_type": "code",
   "execution_count": 7,
   "metadata": {
    "execution": {
     "iopub.execute_input": "2022-05-31T20:48:25.613632Z",
     "iopub.status.busy": "2022-05-31T20:48:25.613477Z",
     "iopub.status.idle": "2022-05-31T20:48:25.617973Z",
     "shell.execute_reply": "2022-05-31T20:48:25.617527Z",
     "shell.execute_reply.started": "2022-05-31T20:48:25.613618Z"
    },
    "tags": []
   },
   "outputs": [],
   "source": [
    "def exp_decay_one(\n",
    "    u_0=0.75,\n",
    "    time_range=[0, 3.0],\n",
    "    domain=[0, 1],\n",
    "    num_samples=10000,\n",
    "    lambda_true=0.5,\n",
    "    N=20,\n",
    "    t_start=1.0,\n",
    "    sampling_freq=100.0,\n",
    "):\n",
    "\n",
    "    time = np.linspace(time_range[0], time_range[1], 1000)\n",
    "    times = np.arange(t_start, time_range[1], 1 / sampling_freq)[0:N]\n",
    "\n",
    "    u_t_lambda = lambda t, l: u_0 * np.exp(-np.outer(l, t))\n",
    "\n",
    "    mn = np.min(domain, axis=1)\n",
    "    mx = np.max(domain, axis=1)\n",
    "    initial = uniform(loc=mn, scale=mx - mn)\n",
    "    lambda_samples = initial.rvs(size=num_samples)\n",
    "\n",
    "    true = u_t_lambda(times, lambda_true)[0]\n",
    "    predicted = u_t_lambda(times, lambda_samples)\n",
    "\n",
    "    return times, lambda_samples, predicted, true"
   ]
  },
  {
   "cell_type": "code",
   "execution_count": 8,
   "metadata": {
    "execution": {
     "iopub.execute_input": "2022-05-31T20:48:25.618828Z",
     "iopub.status.busy": "2022-05-31T20:48:25.618727Z",
     "iopub.status.idle": "2022-05-31T20:48:25.622447Z",
     "shell.execute_reply": "2022-05-31T20:48:25.622137Z",
     "shell.execute_reply.started": "2022-05-31T20:48:25.618815Z"
    },
    "tags": []
   },
   "outputs": [],
   "source": [
    "# Scenario 1 -> Take 30 measurements at 10 Hz starting at t=0\n",
    "u_0 = 0.75  # Initial condition\n",
    "time_range = [0, 10.0]  # Time range (secs)\n",
    "domain = [[0, 1]]  # Domain of possible lambda values\n",
    "lambda_true = 0.5  # True value of lambda\n",
    "num_samples = 100  # Number of parameter samples.\n",
    "N = 30  # Number of measurements from sample/true trajectories to take.\n",
    "t_start = 0.0  # Time at which to start taking measurements (secs)\n",
    "sampling_freq = 100.0  # Sampling frequency (Hz)\n",
    "sd = np.sqrt(1.507e-3)  # Std Deviation for adding noise to measurements"
   ]
  },
  {
   "cell_type": "code",
   "execution_count": 9,
   "metadata": {
    "execution": {
     "iopub.execute_input": "2022-05-31T20:48:25.623040Z",
     "iopub.status.busy": "2022-05-31T20:48:25.622954Z",
     "iopub.status.idle": "2022-05-31T20:48:25.629643Z",
     "shell.execute_reply": "2022-05-31T20:48:25.629356Z",
     "shell.execute_reply.started": "2022-05-31T20:48:25.623028Z"
    },
    "tags": []
   },
   "outputs": [
    {
     "data": {
      "text/plain": [
       "((30,), (100,), (100, 30), (30,))"
      ]
     },
     "execution_count": 9,
     "metadata": {},
     "output_type": "execute_result"
    }
   ],
   "source": [
    "ts, lam, qoi, qoi_true = exp_decay_one(\n",
    "    u_0=u_0,\n",
    "    time_range=time_range,\n",
    "    domain=domain,\n",
    "    lambda_true=lambda_true,\n",
    "    num_samples=num_samples,\n",
    "    N=N,\n",
    "    t_start=t_start,\n",
    "    sampling_freq=sampling_freq,\n",
    ")\n",
    "ts.shape, lam.shape, qoi.shape, qoi_true.shape"
   ]
  },
  {
   "cell_type": "code",
   "execution_count": 10,
   "metadata": {
    "execution": {
     "iopub.execute_input": "2022-05-31T20:48:25.630329Z",
     "iopub.status.busy": "2022-05-31T20:48:25.630216Z",
     "iopub.status.idle": "2022-05-31T20:48:25.640722Z",
     "shell.execute_reply": "2022-05-31T20:48:25.639938Z",
     "shell.execute_reply.started": "2022-05-31T20:48:25.630316Z"
    },
    "tags": []
   },
   "outputs": [
    {
     "data": {
      "text/plain": [
       "array([0.51226471])"
      ]
     },
     "execution_count": 10,
     "metadata": {},
     "output_type": "execute_result"
    }
   ],
   "source": [
    "# Build and solve mud problem\n",
    "exp_decay_mud = mdf.mud_problem(\n",
    "    domain=domain, lam=lam, qoi=qoi, sd=sd, qoi_true=qoi_true, num_obs=N\n",
    ")\n",
    "exp_decay_mud.estimate()"
   ]
  },
  {
   "cell_type": "code",
   "execution_count": 11,
   "metadata": {
    "execution": {
     "iopub.execute_input": "2022-05-31T20:48:27.712225Z",
     "iopub.status.busy": "2022-05-31T20:48:27.711818Z",
     "iopub.status.idle": "2022-05-31T20:48:27.737722Z",
     "shell.execute_reply": "2022-05-31T20:48:27.737363Z",
     "shell.execute_reply.started": "2022-05-31T20:48:27.712192Z"
    },
    "tags": []
   },
   "outputs": [
    {
     "name": "stdout",
     "output_type": "stream",
     "text": [
      "Lambda estimate = [0.9700813]\n",
      "Lambda estimate = [0.60955897]\n",
      "Lambda estimate = [0.3443892]\n"
     ]
    }
   ],
   "source": [
    "# Scenario 1 -> Split previous data into 3 iterations of 10 measurements at 10 Hz starting at t=0\n",
    "# Use weights from previous iteration to weigh next iteration.\n",
    "num_splits = 3\n",
    "ts_it = np.split(ts, num_splits)\n",
    "qoi_it = np.split(qoi, num_splits, axis=1)\n",
    "qoi_true_it = np.split(qoi_true, num_splits)\n",
    "\n",
    "weights = None\n",
    "mud_solves = []\n",
    "for i in range(num_splits):\n",
    "    mud_it = mdf.mud_problem(\n",
    "        domain=domain,\n",
    "        lam=lam,\n",
    "        qoi=qoi_it[i],\n",
    "        sd=sd,\n",
    "        qoi_true=qoi_true_it[i],\n",
    "        num_obs=int(N / num_splits),\n",
    "        weights=weights,\n",
    "    )\n",
    "    res = mud_it.estimate()\n",
    "\n",
    "    print(f\"Lambda estimate = {res}\")\n",
    "    weights = mud_it._r\n",
    "    mud_solves.append(mud_it)"
   ]
  },
  {
   "cell_type": "code",
   "execution_count": null,
   "metadata": {},
   "outputs": [],
   "source": []
  },
  {
   "cell_type": "code",
   "execution_count": null,
   "metadata": {},
   "outputs": [],
   "source": []
  }
 ],
 "metadata": {
  "citation-manager": {
   "items": {}
  },
  "kernelspec": {
   "display_name": "chg-prod",
   "language": "python",
   "name": "chg-prod"
  },
  "language_info": {
   "codemirror_mode": {
    "name": "ipython",
    "version": 3
   },
   "file_extension": ".py",
   "mimetype": "text/x-python",
   "name": "python",
   "nbconvert_exporter": "python",
   "pygments_lexer": "ipython3",
   "version": "3.10.2"
  }
 },
 "nbformat": 4,
 "nbformat_minor": 4
}
